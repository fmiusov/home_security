{
 "cells": [
  {
   "cell_type": "code",
   "execution_count": 5,
   "metadata": {},
   "outputs": [],
   "source": [
    "import cv2\n",
    "import requests\n",
    "import logging\n",
    "import sys\n",
    "from matplotlib import pyplot as plt\n",
    "#import numpy as np\n",
    "#import pyautogui\n",
    "#import imutils"
   ]
  },
  {
   "cell_type": "code",
   "execution_count": 6,
   "metadata": {},
   "outputs": [
    {
     "name": "stdout",
     "output_type": "stream",
     "text": [
      "username \n",
      "password \n",
      "IP Address \n"
     ]
    }
   ],
   "source": [
    "# Enter Your Credentials for variable URL\n",
    "\n",
    "x = input(\"username \")\n",
    "y = input(\"password \")\n",
    "z = input(\"IP Address \")\n",
    "\n",
    "URL = \"http://{}:{}@{}/cgi-bin/mjpg/video.cgi?channel=0&subtype=1\".format(x, y, z)\n",
    "#print(URL)"
   ]
  },
  {
   "cell_type": "code",
   "execution_count": 20,
   "metadata": {},
   "outputs": [],
   "source": [
    "cap = cv2.VideoCapture(URL)\n",
    "\n",
    "cv2.namedWindow(\"StreamOnly\", cv2.WINDOW_NORMAL)\n",
    "\n",
    "while True:\n",
    "\n",
    "    #print('About to start the Read command')\n",
    "    ret, frame = cap.read()\n",
    "    #print('About to show frame of Video.')\n",
    "    cv2.imshow(\"StreamOnly\",frame)\n",
    "    #print('Running..')\n",
    "\n",
    "    # Use key 'q' to close window\n",
    "    if cv2.waitKey(1) & 0xFF == ord('q'):\n",
    "        break\n",
    "\n",
    "cap.release()\n",
    "cv2.destroyAllWindows()"
   ]
  },
  {
   "cell_type": "code",
   "execution_count": 12,
   "metadata": {},
   "outputs": [
    {
     "name": "stdout",
     "output_type": "stream",
     "text": [
      "opencv_frame_0.png written!\n",
      "opencv_frame_1.png written!\n",
      "opencv_frame_2.png written!\n",
      "opencv_frame_3.png written!\n",
      "Q hit, closing...\n"
     ]
    }
   ],
   "source": [
    "cap = cv2.VideoCapture(URL)\n",
    "\n",
    "cv2.namedWindow(\"ScreenShotWindow\", cv2.WINDOW_NORMAL)\n",
    "\n",
    "img_counter = 0\n",
    "\n",
    "#def increment():\n",
    "    #global img_counter\n",
    "    #img_counter = img_counter+1\n",
    "\n",
    "#increment()\n",
    "\n",
    "while True:\n",
    "    ret, frame = cap.read()\n",
    "    cv2.imshow(\"ScreenShotWindow\", frame)\n",
    "    if not ret:\n",
    "        break\n",
    "    k = cv2.waitKey(1) & 0xFF\n",
    "\n",
    "    if k%256 == 113:\n",
    "        # q pressed\n",
    "        print(\"Q hit, closing...\")\n",
    "        break\n",
    "    elif k%256 == 32:\n",
    "        # SPACE pressed\n",
    "        img_name = \"opencv_frame_{}.png\".format(img_counter)\n",
    "        cv2.imwrite(img_name, frame)\n",
    "        print(\"{} written!\".format(img_name))\n",
    "        img_counter += 1\n",
    "\n",
    "cap.release()\n",
    "cv2.destroyAllWindows()"
   ]
  },
  {
   "cell_type": "code",
   "execution_count": 16,
   "metadata": {},
   "outputs": [],
   "source": [
    "cap = cv2.VideoCapture(URL)\n",
    "\n",
    "cv2.namedWindow(\"RecordingWindow\", cv2.WINDOW_NORMAL)\n",
    "\n",
    "fourcc = cv2.VideoWriter_fourcc(*'XVID')\n",
    "out = cv2.VideoWriter('output_20fps.avi', fourcc, 20.0, (640,480))\n",
    "\n",
    "while(cap.isOpened()):\n",
    "    ret, frame = cap.read()\n",
    "    if ret == True:\n",
    "        \n",
    "        out.write(frame)\n",
    "        \n",
    "        cv2.imshow(\"RecordingWindow\", frame)\n",
    "        if cv2.waitKey(1) & 0xFF == ord('q'):\n",
    "            break\n",
    "    else:\n",
    "        break\n",
    "\n",
    "cap.release()\n",
    "out.release()\n",
    "cv2.destroyAllWindows()"
   ]
  },
  {
   "cell_type": "code",
   "execution_count": 3,
   "metadata": {},
   "outputs": [
    {
     "ename": "NameError",
     "evalue": "name 'URL' is not defined",
     "output_type": "error",
     "traceback": [
      "\u001b[0;31m---------------------------------------------------------------------------\u001b[0m",
      "\u001b[0;31mNameError\u001b[0m                                 Traceback (most recent call last)",
      "\u001b[0;32m<ipython-input-3-94dff8f4a6b4>\u001b[0m in \u001b[0;36m<module>\u001b[0;34m\u001b[0m\n\u001b[0;32m----> 1\u001b[0;31m \u001b[0mcap\u001b[0m \u001b[0;34m=\u001b[0m \u001b[0mcv2\u001b[0m\u001b[0;34m.\u001b[0m\u001b[0mVideoCapture\u001b[0m\u001b[0;34m(\u001b[0m\u001b[0mURL\u001b[0m\u001b[0;34m)\u001b[0m\u001b[0;34m\u001b[0m\u001b[0;34m\u001b[0m\u001b[0m\n\u001b[0m",
      "\u001b[0;31mNameError\u001b[0m: name 'URL' is not defined"
     ]
    }
   ],
   "source": []
  },
  {
   "cell_type": "code",
   "execution_count": 22,
   "metadata": {},
   "outputs": [
    {
     "data": {
      "text/plain": [
       "True"
      ]
     },
     "execution_count": 22,
     "metadata": {},
     "output_type": "execute_result"
    }
   ],
   "source": [
    "#image = pyautogui.screenshot()\n",
    "#image = cv2.cvtColor(np.array(image), cv2.COLOR_RGB2BGR)\n",
    "#cv2.imwrite(\"in_memory_to_disk.png\", image)"
   ]
  },
  {
   "cell_type": "code",
   "execution_count": null,
   "metadata": {},
   "outputs": [],
   "source": [
    "#def send_image_to_ssd(image):\n",
    "    # tensorflow\n",
    "    # bounding_boxes = [(class, xmn, ymn, xmx, ymx), (class, xmn, ymn, xmx, ymx)]\n",
    "    bound_boxes = [(car, 100, 120,  130, 220), (bike, 140, 180, 150, 205)]\n",
    "    return bounding_boxes"
   ]
  }
 ],
 "metadata": {
  "kernelspec": {
   "display_name": "Python (security)",
   "language": "python",
   "name": "security"
  },
  "language_info": {
   "codemirror_mode": {
    "name": "ipython",
    "version": 3
   },
   "file_extension": ".py",
   "mimetype": "text/x-python",
   "name": "python",
   "nbconvert_exporter": "python",
   "pygments_lexer": "ipython3",
   "version": "3.7.6"
  }
 },
 "nbformat": 4,
 "nbformat_minor": 2
}
